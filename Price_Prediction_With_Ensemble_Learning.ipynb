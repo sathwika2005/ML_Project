{
  "nbformat": 4,
  "nbformat_minor": 0,
  "metadata": {
    "colab": {
      "provenance": [],
      "authorship_tag": "ABX9TyNymCJpKMGHr/lHicog0m2c",
      "include_colab_link": true
    },
    "kernelspec": {
      "name": "python3",
      "display_name": "Python 3"
    },
    "language_info": {
      "name": "python"
    }
  },
  "cells": [
    {
      "cell_type": "markdown",
      "metadata": {
        "id": "view-in-github",
        "colab_type": "text"
      },
      "source": [
        "<a href=\"https://colab.research.google.com/github/sathwika2005/ML_Project/blob/main/Price_Prediction_With_Ensemble_Learning.ipynb\" target=\"_parent\"><img src=\"https://colab.research.google.com/assets/colab-badge.svg\" alt=\"Open In Colab\"/></a>"
      ]
    },
    {
      "cell_type": "code",
      "execution_count": null,
      "metadata": {
        "colab": {
          "base_uri": "https://localhost:8080/"
        },
        "id": "JXqi3re0RRtq",
        "outputId": "4a70064d-f3da-491e-f142-5ee6e09ef08f"
      },
      "outputs": [
        {
          "output_type": "stream",
          "name": "stdout",
          "text": [
            "The predicted price for a house with square footage of 1500 is: 326000.0\n"
          ]
        }
      ],
      "source": [
        "import numpy as np\n",
        "# Given data\n",
        "x = np.array([1000, 1200, 1300, 1400, 1600])\n",
        "y = np.array([200000, 250000, 280000, 300000, 350000])\n",
        "# Calculation of coefficients\n",
        "N = len(x)\n",
        "x_mean = np.mean(x)\n",
        "y_mean = np.mean(y)\n",
        "x_var = np.var(x, ddof=1)#DDOF:- delta degrees of freedom\n",
        "y_var = np.var(y, ddof=1)\n",
        "cov = np.cov(x, y, ddof=1)[0][1]\n",
        "b1 = cov / x_var\n",
        "bo = y_mean - b1 * x_mean\n",
        "# Regression line equation\n",
        "def predict(x):\n",
        "  return bo + b1 * x\n",
        "# Predict the price for a house with square footage of 1500\n",
        "print(\"The predicted price for a house with square footage of 1500 is:\", predict(1500))"
      ]
    },
    {
      "cell_type": "code",
      "source": [
        "import numpy as np\n",
        "# Given data\n",
        "x = np.array([2000,2005,2010,2015,2020])\n",
        "y = np.array([35,45,65,75,85])\n",
        "# Calculation of coefficients\n",
        "N = len(x)\n",
        "x_mean = np.mean(x)\n",
        "y_mean = np.mean(y)\n",
        "x_var = np.var(x, ddof=1)#DDOF:- delta degrees of freedom\n",
        "y_var = np.var(y, ddof=1)\n",
        "cov = np.cov(x, y, ddof=1)[0][1]\n",
        "b1 = cov / x_var\n",
        "bo = y_mean - b1 * x_mean\n",
        "# Regression line equation\n",
        "def predict(x):\n",
        "  return bo + b1 * x\n",
        "# Predict the price for a house with square footage of 1500\n",
        "print(\"The predicted price for a petrol in the year 2024 is:\", predict(2024))"
      ],
      "metadata": {
        "colab": {
          "base_uri": "https://localhost:8080/"
        },
        "id": "IZ_LicLXRodn",
        "outputId": "288a75d0-b4bc-4bbd-f25b-95cff5b54dad"
      },
      "execution_count": null,
      "outputs": [
        {
          "output_type": "stream",
          "name": "stdout",
          "text": [
            "The predicted price for a petrol in the year 2024 is: 97.40000000000055\n"
          ]
        }
      ]
    },
    {
      "cell_type": "code",
      "source": [
        "import numpy as np\n",
        "# Given data\n",
        "x = np.array([1000, 1200, 1300, 1400, 1600])\n",
        "y = np.array([200000, 250000, 280000, 300000, 350000])\n",
        "# Calculation of coefficients\n",
        "N = len(x)\n",
        "x_mean = np.mean(x)\n",
        "y_mean = np.mean(y)\n",
        "xy_mean = np.mean(x * y)\n",
        "x_square_mean = np.mean(x ** 2)\n",
        "b1 = (xy_mean - x_mean * y_mean) / (x_square_mean - x_mean ** 2)\n",
        "bo = y_mean - b1*x_mean\n",
        "# Regression line equation\n",
        "def predict(x):\n",
        "  return bo + b1 * x\n",
        "# Predict the price for a house with square footage of 1500\n",
        "print(\"The predicted price for a house with square footage of 1500 is:\", predict(1500))"
      ],
      "metadata": {
        "id": "RDbChlcVRq2F",
        "outputId": "b6e09d7b-210d-437c-b174-08e4d7617362",
        "colab": {
          "base_uri": "https://localhost:8080/"
        }
      },
      "execution_count": null,
      "outputs": [
        {
          "output_type": "stream",
          "name": "stdout",
          "text": [
            "The predicted price for a house with square footage of 1500 is: 326000.0\n"
          ]
        }
      ]
    },
    {
      "cell_type": "code",
      "source": [
        "import numpy as np\n",
        "# Given data\n",
        "x = np.array([2022,2024])\n",
        "y = np.array([330000,364000])\n",
        "# Calculation of coefficients\n",
        "N = len(x)\n",
        "x_mean = np.mean(x)\n",
        "y_mean = np.mean(y)\n",
        "x_var = np.var(x, ddof=1)#DDOF:- delta degrees of freedom\n",
        "y_var = np.var(y, ddof=1)\n",
        "cov = np.cov(x, y, ddof=1)[0][1]\n",
        "b1 = cov / x_var\n",
        "bo = y_mean - b1 * x_mean\n",
        "# Regression line equation\n",
        "def predict(x):\n",
        "  return bo + b1 * x\n",
        "# Predict the price for a house with square footage of 1500\n",
        "print(\"The predicted price for a house with square footage of 1500 is:\", predict(2898))"
      ],
      "metadata": {
        "id": "5GYSId8qRszM",
        "outputId": "6a65311b-ef2b-4a24-fac5-7996f1c538f2",
        "colab": {
          "base_uri": "https://localhost:8080/"
        }
      },
      "execution_count": null,
      "outputs": [
        {
          "output_type": "stream",
          "name": "stdout",
          "text": [
            "The predicted price for a house with square footage of 1500 is: 15222000.0\n"
          ]
        }
      ]
    }
  ]
}